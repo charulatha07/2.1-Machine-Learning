{
 "cells": [
  {
   "cell_type": "code",
   "execution_count": 6,
   "id": "4caef4bc",
   "metadata": {},
   "outputs": [],
   "source": [
    "import pickle"
   ]
  },
  {
   "cell_type": "code",
   "execution_count": 7,
   "id": "e16f06d6",
   "metadata": {},
   "outputs": [],
   "source": [
    "with open('sc.pkl1', 'rb') as file:\n",
    "    sc = pickle.load(file)\n"
   ]
  },
  {
   "cell_type": "code",
   "execution_count": 8,
   "id": "2e38999c",
   "metadata": {},
   "outputs": [],
   "source": [
    "loaded_model = pickle.load(open(\"finalized_model_svr3.sav\", 'rb'))\n"
   ]
  },
  {
   "cell_type": "code",
   "execution_count": null,
   "id": "8cf88218",
   "metadata": {},
   "outputs": [],
   "source": []
  },
  {
   "cell_type": "code",
   "execution_count": 13,
   "id": "4d98b262",
   "metadata": {},
   "outputs": [
    {
     "name": "stderr",
     "output_type": "stream",
     "text": [
      "C:\\anaconda3\\Lib\\site-packages\\sklearn\\base.py:464: UserWarning: X does not have valid feature names, but StandardScaler was fitted with feature names\n",
      "  warnings.warn(\n"
     ]
    }
   ],
   "source": [
    "future_prediction = sc.transform([[45,80,4.5,1.2,120,40,1.1,140,4.0,13.5,40,6000,5.0,1,0,0,0,1,0,1,0,0,1,0,1,1,0]])"
   ]
  },
  {
   "cell_type": "code",
   "execution_count": 14,
   "id": "c2764b4d",
   "metadata": {},
   "outputs": [],
   "source": [
    "result = loaded_model.predict(future_prediction)\n"
   ]
  },
  {
   "cell_type": "code",
   "execution_count": 15,
   "id": "1826fff0",
   "metadata": {},
   "outputs": [
    {
     "name": "stdout",
     "output_type": "stream",
     "text": [
      "Prediction Result: [1]\n"
     ]
    }
   ],
   "source": [
    "print(\"Prediction Result: {}\".format(result))"
   ]
  },
  {
   "cell_type": "code",
   "execution_count": null,
   "id": "1d19bd29",
   "metadata": {},
   "outputs": [],
   "source": []
  }
 ],
 "metadata": {
  "kernelspec": {
   "display_name": "Python 3 (ipykernel)",
   "language": "python",
   "name": "python3"
  },
  "language_info": {
   "codemirror_mode": {
    "name": "ipython",
    "version": 3
   },
   "file_extension": ".py",
   "mimetype": "text/x-python",
   "name": "python",
   "nbconvert_exporter": "python",
   "pygments_lexer": "ipython3",
   "version": "3.11.5"
  }
 },
 "nbformat": 4,
 "nbformat_minor": 5
}
